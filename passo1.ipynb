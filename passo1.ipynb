{
  "nbformat": 4,
  "nbformat_minor": 0,
  "metadata": {
    "colab": {
      "provenance": [],
      "authorship_tag": "ABX9TyOF76ebvVHNTmpYte5TF4k3",
      "include_colab_link": true
    },
    "kernelspec": {
      "name": "python3",
      "display_name": "Python 3"
    },
    "language_info": {
      "name": "python"
    }
  },
  "cells": [
    {
      "cell_type": "markdown",
      "metadata": {
        "id": "view-in-github",
        "colab_type": "text"
      },
      "source": [
        "<a href=\"https://colab.research.google.com/github/sarabian/solucoespraticas/blob/main/passo1.ipynb\" target=\"_parent\"><img src=\"https://colab.research.google.com/assets/colab-badge.svg\" alt=\"Open In Colab\"/></a>"
      ]
    },
    {
      "cell_type": "code",
      "source": [
        "'''\n",
        "programa que pergunte a distância de uma viagem em Km.\n",
        "Calcule o preço da passagem, cobrando R$ 0,50 por Km para viagens de até 200km\n",
        "e R$ 0,45 para viagens mais longas\n",
        "'''\n",
        "dist = int(input(\"Qual a distância a ser percorrida? \\n\"))\n",
        "if dist <= 200:\n",
        "    price = (dist * 0.50)\n",
        "    print(\"Preço da passagem: R${:.2f}.\".format(price))\n",
        "else:\n",
        "    price = (dist * 0.45)\n",
        "    print(\"Preço da passagem: R$ {:.2f}.\".format(price))"
      ],
      "metadata": {
        "colab": {
          "base_uri": "https://localhost:8080/"
        },
        "id": "QI77zUqLXrZe",
        "outputId": "2784e308-53b5-431c-f81b-fe962f9ae160"
      },
      "execution_count": 11,
      "outputs": [
        {
          "output_type": "stream",
          "name": "stdout",
          "text": [
            "Qual a distância a ser percorrida? \n",
            "100\n",
            "Preço da passagem: R$50.00.\n"
          ]
        }
      ]
    }
  ]
}