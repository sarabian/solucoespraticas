{
  "nbformat": 4,
  "nbformat_minor": 0,
  "metadata": {
    "colab": {
      "provenance": [],
      "authorship_tag": "ABX9TyPigFNOcft9Y0t3tOkwd75j",
      "include_colab_link": true
    },
    "kernelspec": {
      "name": "python3",
      "display_name": "Python 3"
    },
    "language_info": {
      "name": "python"
    }
  },
  "cells": [
    {
      "cell_type": "markdown",
      "metadata": {
        "id": "view-in-github",
        "colab_type": "text"
      },
      "source": [
        "<a href=\"https://colab.research.google.com/github/sarabian/solucoespraticas/blob/main/calculoFinanceiroeMega.ipynb\" target=\"_parent\"><img src=\"https://colab.research.google.com/assets/colab-badge.svg\" alt=\"Open In Colab\"/></a>"
      ]
    },
    {
      "cell_type": "code",
      "source": [],
      "metadata": {
        "id": "SNfDuiif1Y6n"
      },
      "execution_count": null,
      "outputs": []
    },
    {
      "cell_type": "code",
      "execution_count": 5,
      "metadata": {
        "colab": {
          "base_uri": "https://localhost:8080/"
        },
        "id": "qgDx9PZGw-_2",
        "outputId": "14d16945-e6f7-4671-d39f-cedba425775d"
      },
      "outputs": [
        {
          "output_type": "stream",
          "name": "stdout",
          "text": [
            "os numeros sorteados pra mega sena da bia foi :[2, 7, 25, 48, 57, 58]\n"
          ]
        }
      ],
      "source": [
        "from random import randint\n",
        "lista=list()\n",
        "cont=0\n",
        "while True:\n",
        "  num= randint(1,60)\n",
        "  if num not in lista:\n",
        "    lista.append(num)\n",
        "    cont+=1\n",
        "  if cont >= 6:\n",
        "    break\n",
        "lista.sort()\n",
        "print(f'os numeros sorteados pra mega sena da bia foi :{lista}')    "
      ]
    },
    {
      "cell_type": "code",
      "source": [],
      "metadata": {
        "id": "Ohhbj5-8OEJx"
      },
      "execution_count": null,
      "outputs": []
    },
    {
      "cell_type": "code",
      "source": [],
      "metadata": {
        "id": "3s-CtLMs1KK6"
      },
      "execution_count": null,
      "outputs": []
    },
    {
      "cell_type": "code",
      "execution_count": 11,
      "metadata": {
        "colab": {
          "base_uri": "https://localhost:8080/"
        },
        "outputId": "b5b3a954-6a16-48e1-f8f8-5e4a78434b3e",
        "id": "bd6dSsD31Uyk"
      },
      "outputs": [
        {
          "output_type": "stream",
          "name": "stdout",
          "text": [
            "os numeros sorteados pra mega sena do li foi :[1, 3, 6, 39, 50, 51]\n"
          ]
        }
      ],
      "source": [
        "from random import randint\n",
        "lista=list()\n",
        "cont=0\n",
        "while True:\n",
        "  num= randint(1,60)\n",
        "  if num not in lista:\n",
        "    lista.append(num)\n",
        "    cont+=1\n",
        "  if cont >= 6:\n",
        "    break\n",
        "lista.sort()\n",
        "print(f'os numeros sorteados pra mega sena do li foi :{lista}')    "
      ]
    },
    {
      "cell_type": "code",
      "source": [
        "capital=float(input('Deposito inicial:'))\n",
        "taxajuros=float(input('Taxa:'))\n",
        "totaljuros=0\n",
        "meses=0\n",
        "while meses < 60:\n",
        "  juros = capital*taxajuros/100\n",
        "  totaljuros += juros\n",
        "  capital += juros\n",
        "  \n",
        "  meses += 1\n",
        "  print(f'o valor poupado no {meses:2}° mes é de R$ {capital:.2f}.')\n",
        "print(f'{totaljuros:.2f}')\n",
        "print(totaljuros/capital)"
      ],
      "metadata": {
        "colab": {
          "base_uri": "https://localhost:8080/"
        },
        "id": "eZIfDk05EV0Y",
        "outputId": "acbf7911-d12b-4b9d-ccde-d6b8839f9d17"
      },
      "execution_count": 12,
      "outputs": [
        {
          "output_type": "stream",
          "name": "stdout",
          "text": [
            "Deposito inicial:10000\n",
            "Taxa:1\n",
            "o valor poupado no  1° mes é de R$ 10100.00.\n",
            "o valor poupado no  2° mes é de R$ 10201.00.\n",
            "o valor poupado no  3° mes é de R$ 10303.01.\n",
            "o valor poupado no  4° mes é de R$ 10406.04.\n",
            "o valor poupado no  5° mes é de R$ 10510.10.\n",
            "o valor poupado no  6° mes é de R$ 10615.20.\n",
            "o valor poupado no  7° mes é de R$ 10721.35.\n",
            "o valor poupado no  8° mes é de R$ 10828.57.\n",
            "o valor poupado no  9° mes é de R$ 10936.85.\n",
            "o valor poupado no 10° mes é de R$ 11046.22.\n",
            "o valor poupado no 11° mes é de R$ 11156.68.\n",
            "o valor poupado no 12° mes é de R$ 11268.25.\n",
            "o valor poupado no 13° mes é de R$ 11380.93.\n",
            "o valor poupado no 14° mes é de R$ 11494.74.\n",
            "o valor poupado no 15° mes é de R$ 11609.69.\n",
            "o valor poupado no 16° mes é de R$ 11725.79.\n",
            "o valor poupado no 17° mes é de R$ 11843.04.\n",
            "o valor poupado no 18° mes é de R$ 11961.47.\n",
            "o valor poupado no 19° mes é de R$ 12081.09.\n",
            "o valor poupado no 20° mes é de R$ 12201.90.\n",
            "o valor poupado no 21° mes é de R$ 12323.92.\n",
            "o valor poupado no 22° mes é de R$ 12447.16.\n",
            "o valor poupado no 23° mes é de R$ 12571.63.\n",
            "o valor poupado no 24° mes é de R$ 12697.35.\n",
            "o valor poupado no 25° mes é de R$ 12824.32.\n",
            "o valor poupado no 26° mes é de R$ 12952.56.\n",
            "o valor poupado no 27° mes é de R$ 13082.09.\n",
            "o valor poupado no 28° mes é de R$ 13212.91.\n",
            "o valor poupado no 29° mes é de R$ 13345.04.\n",
            "o valor poupado no 30° mes é de R$ 13478.49.\n",
            "o valor poupado no 31° mes é de R$ 13613.27.\n",
            "o valor poupado no 32° mes é de R$ 13749.41.\n",
            "o valor poupado no 33° mes é de R$ 13886.90.\n",
            "o valor poupado no 34° mes é de R$ 14025.77.\n",
            "o valor poupado no 35° mes é de R$ 14166.03.\n",
            "o valor poupado no 36° mes é de R$ 14307.69.\n",
            "o valor poupado no 37° mes é de R$ 14450.76.\n",
            "o valor poupado no 38° mes é de R$ 14595.27.\n",
            "o valor poupado no 39° mes é de R$ 14741.23.\n",
            "o valor poupado no 40° mes é de R$ 14888.64.\n",
            "o valor poupado no 41° mes é de R$ 15037.52.\n",
            "o valor poupado no 42° mes é de R$ 15187.90.\n",
            "o valor poupado no 43° mes é de R$ 15339.78.\n",
            "o valor poupado no 44° mes é de R$ 15493.18.\n",
            "o valor poupado no 45° mes é de R$ 15648.11.\n",
            "o valor poupado no 46° mes é de R$ 15804.59.\n",
            "o valor poupado no 47° mes é de R$ 15962.63.\n",
            "o valor poupado no 48° mes é de R$ 16122.26.\n",
            "o valor poupado no 49° mes é de R$ 16283.48.\n",
            "o valor poupado no 50° mes é de R$ 16446.32.\n",
            "o valor poupado no 51° mes é de R$ 16610.78.\n",
            "o valor poupado no 52° mes é de R$ 16776.89.\n",
            "o valor poupado no 53° mes é de R$ 16944.66.\n",
            "o valor poupado no 54° mes é de R$ 17114.10.\n",
            "o valor poupado no 55° mes é de R$ 17285.25.\n",
            "o valor poupado no 56° mes é de R$ 17458.10.\n",
            "o valor poupado no 57° mes é de R$ 17632.68.\n",
            "o valor poupado no 58° mes é de R$ 17809.01.\n",
            "o valor poupado no 59° mes é de R$ 17987.10.\n",
            "o valor poupado no 60° mes é de R$ 18166.97.\n",
            "8166.97\n",
            "0.44955038406224024\n"
          ]
        }
      ]
    }
  ]
}