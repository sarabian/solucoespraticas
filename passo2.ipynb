{
  "nbformat": 4,
  "nbformat_minor": 0,
  "metadata": {
    "colab": {
      "provenance": [],
      "authorship_tag": "ABX9TyOqrEXqvbhXM+4nmMXooKiC",
      "include_colab_link": true
    },
    "kernelspec": {
      "name": "python3",
      "display_name": "Python 3"
    },
    "language_info": {
      "name": "python"
    }
  },
  "cells": [
    {
      "cell_type": "markdown",
      "metadata": {
        "id": "view-in-github",
        "colab_type": "text"
      },
      "source": [
        "<a href=\"https://colab.research.google.com/github/sarabian/solucoespraticas/blob/main/passo2.ipynb\" target=\"_parent\"><img src=\"https://colab.research.google.com/assets/colab-badge.svg\" alt=\"Open In Colab\"/></a>"
      ]
    },
    {
      "cell_type": "code",
      "source": [
        "'''\n",
        "programa que pergunte a distância de uma viagem em Km.\n",
        "Calcule o preço da passagem, cobrando R$ 0,50 por Km para viagens de até 200km\n",
        "e R$ 0,45 para viagens mais longas\n",
        "'''\n",
        "dist = int(input(\"Qual a distância a ser percorrida? \\n\"))\n",
        "if dist <= 200:\n",
        "    price = (dist * 0.50)\n",
        "    print(\"Preço da passagem: R${:.2f}.\".format(price))\n",
        "else:\n",
        "    price = (dist * 0.45)\n",
        "    print(\"Preço da passagem: R$ {:.2f}.\".format(price))"
      ],
      "metadata": {
        "colab": {
          "base_uri": "https://localhost:8080/"
        },
        "id": "QI77zUqLXrZe",
        "outputId": "2784e308-53b5-431c-f81b-fe962f9ae160"
      },
      "execution_count": 11,
      "outputs": [
        {
          "output_type": "stream",
          "name": "stdout",
          "text": [
            "Qual a distância a ser percorrida? \n",
            "100\n",
            "Preço da passagem: R$50.00.\n"
          ]
        }
      ]
    },
    {
      "cell_type": "code",
      "source": [
        "''' programa que leia a velocidade de um carro\n",
        "Se ele ultrapassar 80km/h, mostre uma mensagem dizendo que ele foi multado\n",
        "A multa vai custar R$7,00 por cada Km acima do limite.\n",
        "'''\n",
        "vel = int(input(\"Velocidade do carro: \\n\"))\n",
        "if vel > 80:\n",
        "    print(\"Você está acima do limite permitido! \\nVelocidade de {}km/h!\".format(vel))\n",
        "    multa = 7 * (vel - 80)\n",
        "    print(\"Sua multa é de R${:.2f}.\".format(multa))\n",
        "else:\n",
        "    print(\"Velocidade dentro do limite. Boa viagem.\")"
      ],
      "metadata": {
        "colab": {
          "base_uri": "https://localhost:8080/"
        },
        "id": "1G6IXTKkZCXm",
        "outputId": "fcd80c58-3ad1-44dc-c0b4-2c0f634e7277"
      },
      "execution_count": 13,
      "outputs": [
        {
          "output_type": "stream",
          "name": "stdout",
          "text": [
            "Velocidade do carro: \n",
            "60\n",
            "Velocidade dentro do limite. Boa viagem.\n"
          ]
        }
      ]
    }
  ]
}